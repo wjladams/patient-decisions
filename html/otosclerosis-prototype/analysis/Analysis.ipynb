{
 "cells": [
  {
   "cell_type": "markdown",
   "metadata": {},
   "source": [
    "# Analyses of thyroid AHP model"
   ]
  },
  {
   "cell_type": "markdown",
   "metadata": {},
   "source": [
    "## Imports first"
   ]
  },
  {
   "cell_type": "code",
   "execution_count": 12,
   "metadata": {},
   "outputs": [],
   "source": [
    "# Pandas has DataFrames and Series, very useful things\n",
    "import pandas as pd\n",
    "# numpy has lots of useful things in it\n",
    "import numpy as np\n",
    "# lastly import our ahptree python code.  If you haven't already installed the pyanp library do\n",
    "# pip install pyanp\n",
    "# to get it\n",
    "from pyanp import ahptree\n",
    "import matplotlib.pyplot as plt\n",
    "import re\n",
    "import random"
   ]
  },
  {
   "cell_type": "code",
   "execution_count": 13,
   "metadata": {},
   "outputs": [],
   "source": [
    "%matplotlib inline\n",
    "plt.rcParams[\"figure.figsize\"] = (10,6)"
   ]
  },
  {
   "cell_type": "markdown",
   "metadata": {},
   "source": [
    "## Load the model"
   ]
  },
  {
   "cell_type": "code",
   "execution_count": 14,
   "metadata": {},
   "outputs": [],
   "source": [
    "excel_file = 'otosclerosis_model.xlsx'\n",
    "ahp = ahptree.ahptree_fromdf(excel_file)"
   ]
  },
  {
   "cell_type": "code",
   "execution_count": null,
   "metadata": {},
   "outputs": [],
   "source": []
  },
  {
   "cell_type": "markdown",
   "metadata": {},
   "source": [
    "# Try all possible votes combinations, see which wins"
   ]
  },
  {
   "cell_type": "markdown",
   "metadata": {},
   "source": [
    "## We need a class to store comparisons"
   ]
  },
  {
   "cell_type": "markdown",
   "metadata": {},
   "source": [
    "This class is used to store a full set of comparisons for an AHP model in a way that we can increment to the \"next vote\".  In other words, when we increment this class, it changes on pairwise vote to the next value in the variable `self.POSSIBLE_VOTES` in `ComparisonSet`.\n",
    "\n",
    "We will use it to iterate over all possible pairwise comparisons and see the rankings that happen"
   ]
  },
  {
   "cell_type": "code",
   "execution_count": 15,
   "metadata": {},
   "outputs": [],
   "source": [
    "BETTER=2\n",
    "MUCH_BETTER=5\n",
    "class ComparisonSet:\n",
    "    def __init__(self, user, ahp, cmps):\n",
    "        self.user=user\n",
    "        self.POSSIBLE_VOTES=[1/MUCH_BETTER, 1/BETTER, 1, BETTER, MUCH_BETTER]\n",
    "        self.votes = np.zeros([len(cmps)], dtype=int)\n",
    "        self.numbCmps=len(self.POSSIBLE_VOTES)\n",
    "        self.compares = cmps\n",
    "        self.nodes = ahp.nodenames()\n",
    "        self.ahp=ahp\n",
    "    def incr(self):\n",
    "        # increment the first value\n",
    "        self.votes[0]+=1\n",
    "        currentPos=0\n",
    "        while self.votes[currentPos] >= self.numbCmps:\n",
    "            # We need to \"carry the 1\" over\n",
    "            self.votes[currentPos] = 0\n",
    "            if currentPos < (len(self.votes) -1):\n",
    "                # We have a place to carry the one to\n",
    "                currentPos+=1\n",
    "                self.votes[currentPos]+=1\n",
    "            else:\n",
    "                # We reached the end, everythign is 0 again, return false\n",
    "                return False\n",
    "        # If we made it here, we succeeded\n",
    "        self.vote()\n",
    "        return True\n",
    "    def random(self):\n",
    "        '''\n",
    "        Randomly updates the votes here and sends to the ahp model\n",
    "        '''\n",
    "        for i in range(len(self.votes)):\n",
    "            self.votes[i] = random.randrange(len(self.POSSIBLE_VOTES))\n",
    "        self.vote()\n",
    "        \n",
    "    def monte_carlo(self, nTrials=10000):\n",
    "        '''\n",
    "        Performs a monte carlo analysis, randomly voting and getting the\n",
    "        order of the alternatives.  Returns a pd.Series whose keys are the\n",
    "        alt names in order and value is the number of times that ranking \n",
    "        occured\n",
    "        '''\n",
    "        rankCounts = pd.Series({})\n",
    "        for i in range(nTrials):\n",
    "            self.random()\n",
    "            p=self.ahp.priority()\n",
    "            # Get the alt names in rank sort order from best to worst\n",
    "            rankKey=sortedIndex(p)\n",
    "            # Check to see if this is the first time seeing that ordering\n",
    "            if rankKey not in rankCounts:\n",
    "                # It was the first time seeing that ordering, initialize\n",
    "                rankCounts[rankKey]=0\n",
    "            # Increment the count for this ranking\n",
    "            rankCounts[rankKey]+=1\n",
    "        return rankCounts\n",
    "        \n",
    "    def vote(self):\n",
    "        '''\n",
    "        Inserts the votes into the model\n",
    "        '''\n",
    "        for cmp,voteIndex in zip(self.compares,self.votes):\n",
    "            wrt = self.nodes[cmp[0]]\n",
    "            node1 = self.nodes[cmp[1]]\n",
    "            node2 = self.nodes[cmp[2]]\n",
    "            #print(\"Comparing \"+wrt+\" \"+node1+\" \"+node2)\n",
    "            self.ahp.nodepw(self.user, wrt, node1, node2, self.POSSIBLE_VOTES[voteIndex])\n",
    "\n",
    "# We also need a function that takes in a pd.Series and returns the a string that shows best to worst.\n",
    "# For instance if we have ['Bill':10, 'John':15, 'Rick':5] this would return \n",
    "# \"John-Bill-Rick\"\n",
    "def sortedIndex(p: pd.Series):\n",
    "    a = str(p.index[(-p).argsort()].values)\n",
    "    #This looks like what we want, but it wrapped in [ ]\n",
    "    a = re.sub(\"' '\", \"-\", a)\n",
    "    a = re.sub(\"'\", \"\", a)\n",
    "    return a[1:-1]"
   ]
  },
  {
   "cell_type": "markdown",
   "metadata": {},
   "source": [
    "## We need to configure our Comparison set"
   ]
  },
  {
   "cell_type": "code",
   "execution_count": 16,
   "metadata": {},
   "outputs": [],
   "source": [
    "# These are all the pairwise comparisons, ordered by the\n",
    "# ahp.node_names() ordering.  Each comparison is a 3-tuple\n",
    "# * First is the index of the wrtNode\n",
    "# * Second is the index of the rowNode\n",
    "# * Third is the index of the colNode\n",
    "# So the format of the cmps is \n",
    "# [(wrtNode1,rowNode1,colNode1), (wrtNode2,rowNode2,colNode2), ...]\n",
    "cmps = [(0,1,2),(0,1,3),(0,1,4),(0,1,5),\n",
    "        (0,2,3),(0,2,4),(0,2,5),\n",
    "        (0,3,4),(0,3,5),\n",
    "        (0,4,5)]\n",
    "# The model only has one user, called \"Group\"\n",
    "userName=\"Group\""
   ]
  },
  {
   "cell_type": "code",
   "execution_count": 17,
   "metadata": {},
   "outputs": [],
   "source": [
    "#This was testing that pairwise was working, nothing to see here\n",
    "#ahp.nodepw(\"Group\", \"A2\",\"B1\", \"B2\", 9)"
   ]
  },
  {
   "cell_type": "code",
   "execution_count": 18,
   "metadata": {},
   "outputs": [
    {
     "data": {
      "text/html": [
       "<div>\n",
       "<style scoped>\n",
       "    .dataframe tbody tr th:only-of-type {\n",
       "        vertical-align: middle;\n",
       "    }\n",
       "\n",
       "    .dataframe tbody tr th {\n",
       "        vertical-align: top;\n",
       "    }\n",
       "\n",
       "    .dataframe thead th {\n",
       "        text-align: right;\n",
       "    }\n",
       "</style>\n",
       "<table border=\"1\" class=\"dataframe\">\n",
       "  <thead>\n",
       "    <tr style=\"text-align: right;\">\n",
       "      <th></th>\n",
       "      <th>Group</th>\n",
       "    </tr>\n",
       "  </thead>\n",
       "  <tbody>\n",
       "    <tr>\n",
       "      <th>H</th>\n",
       "      <td>0.396</td>\n",
       "    </tr>\n",
       "    <tr>\n",
       "      <th>S</th>\n",
       "      <td>0.400</td>\n",
       "    </tr>\n",
       "  </tbody>\n",
       "</table>\n",
       "</div>"
      ],
      "text/plain": [
       "   Group\n",
       "H  0.396\n",
       "S  0.400"
      ]
     },
     "execution_count": 18,
     "metadata": {},
     "output_type": "execute_result"
    }
   ],
   "source": [
    "#Let's see the current default scores for everything\n",
    "ahp.priority_table()"
   ]
  },
  {
   "cell_type": "markdown",
   "metadata": {},
   "source": [
    "## Let's try every comparison possibility and see how the alts rank"
   ]
  },
  {
   "cell_type": "markdown",
   "metadata": {},
   "source": [
    "This code does the following:\n",
    "\n",
    "1. `rankCount` is a dictionary that has the alts in an ordered list best to worse as keys and the value is the number of times that ranking has occurred\n",
    "1. So `rankCount[\"['Ob', 'Hemi', 'Full']\"]` is the number of times the ranking 1. Observation, 2. Hemi, 3. Full happened.\n",
    "2. The `compareSet` variable has the full comparison data, and the ability to change one vote and recalc the priorities of the alterantives.\n",
    "3. We increment over all possible vote combinations and:\n",
    "    1. Recalculate the priorities of the alternatives\n",
    "    2. Get the alts in rank order as a string, call this `rankKey`\n",
    "    3. Increment `rankCount[rankKey]` by 1\n",
    "\n",
    "**Note:** there are 11 comparisons, each with 5 possible votes, so the total number of possible combinations is\n",
    "$5^{11}=48,828,125$"
   ]
  },
  {
   "cell_type": "code",
   "execution_count": 35,
   "metadata": {
    "scrolled": true
   },
   "outputs": [],
   "source": [
    "# This calculation takes 3 days, no need to repeat it\n",
    "CALC_DONE = True\n",
    "\n",
    "# Okay, chanage CALC_DONE to False to execute again\n",
    "# you can break the execution and next cell continues from where you left off :)\n",
    "if not CALC_DONE:\n",
    "    # Initiailize rankCounts dictionary\n",
    "    rankCounts=pd.Series({})\n",
    "    # Setup our comparisonSet that will allow us to loop over all possible\n",
    "    # comparisons for our ahp model\n",
    "    compareSet=ComparisonSet(\"Group\", ahp, cmps)\n",
    "    # Handle the initial voting case\n",
    "    compareSet.vote()\n",
    "    # Get the scores\n",
    "    p=ahp.priority()\n",
    "    # Get the alt names in rank order from best to worst\n",
    "    rankKey=sortedIndex(p)\n",
    "    rankCounts[rankKey]=1\n",
    "    while compareSet.incr():\n",
    "        # If we make it here, we were able to increment to the next voting set\n",
    "        # Get the resulting priority\n",
    "        p=ahp.priority()\n",
    "        # Get the alt names in rank sort order from best to worst\n",
    "        rankKey=sortedIndex(p)\n",
    "        # Check to see if this is the first time seeing that ordering\n",
    "        if rankKey not in rankCounts:\n",
    "            # It was the first time seeing that ordering, initialize\n",
    "            rankCounts[rankKey]=0\n",
    "        # Increment the count for this ranking\n",
    "        rankCounts[rankKey]+=1\n"
   ]
  },
  {
   "cell_type": "code",
   "execution_count": 36,
   "metadata": {
    "scrolled": true
   },
   "outputs": [],
   "source": [
    "# Did you break on the calculation and want to continue?\n",
    "cont_calc = True\n",
    "if cont_calc and not CALC_DONE:\n",
    "    while compareSet.incr():\n",
    "        # If we make it here, we were able to increment to the next voting set\n",
    "        # Get the resulting priority\n",
    "        p=ahp.priority()\n",
    "        # Get the alt names in rank sort order from best to worst\n",
    "        rankKey=sortedIndex(p)\n",
    "        # Check to see if this is the first time seeing that ordering\n",
    "        if rankKey not in rankCounts:\n",
    "            # It was the first time seeing that ordering, initialize\n",
    "            rankCounts[rankKey]=0\n",
    "        # Increment the count for this ranking\n",
    "        rankCounts[rankKey]+=1"
   ]
  },
  {
   "cell_type": "markdown",
   "metadata": {},
   "source": [
    "## Let's visualize the counts"
   ]
  },
  {
   "cell_type": "code",
   "execution_count": 33,
   "metadata": {},
   "outputs": [
    {
     "data": {
      "text/plain": [
       "H-S    1619835\n",
       "S-H    1522767\n",
       "dtype: int64"
      ]
     },
     "execution_count": 33,
     "metadata": {},
     "output_type": "execute_result"
    }
   ],
   "source": [
    "rankCounts"
   ]
  },
  {
   "cell_type": "code",
   "execution_count": 34,
   "metadata": {},
   "outputs": [
    {
     "data": {
      "image/png": "[encoded data removed]",
      "text/plain": [
       "<Figure size 720x432 with 1 Axes>"
      ]
     },
     "metadata": {
      "needs_background": "light"
     },
     "output_type": "display_data"
    }
   ],
   "source": [
    "rankCounts.plot.bar()\n",
    "plt.title(\"Alternative rankings by count of happening\")\n",
    "plt.show()"
   ]
  },
  {
   "cell_type": "markdown",
   "metadata": {},
   "source": [
    "## Monte Carlo analysis"
   ]
  },
  {
   "cell_type": "code",
   "execution_count": 21,
   "metadata": {},
   "outputs": [
    {
     "name": "stderr",
     "output_type": "stream",
     "text": [
      "<ipython-input-15-adfa4b0499e9>:44: DeprecationWarning: The default dtype for empty Series will be 'object' instead of 'float64' in a future version. Specify a dtype explicitly to silence this warning.\n",
      "  rankCounts = pd.Series({})\n"
     ]
    }
   ],
   "source": [
    "# Setup our comparisonSet that will allow us to loop over all possible\n",
    "# comparisons for our ahp model\n",
    "compareSet=ComparisonSet(\"Group\", ahp, cmps)\n",
    "mc = compareSet.monte_carlo(10000)"
   ]
  },
  {
   "cell_type": "code",
   "execution_count": 22,
   "metadata": {},
   "outputs": [
    {
     "data": {
      "text/plain": [
       "<matplotlib.axes._subplots.AxesSubplot at 0x7f82fe2ce8b0>"
      ]
     },
     "execution_count": 22,
     "metadata": {},
     "output_type": "execute_result"
    },
    {
     "data": {
      "image/png": "[encoded data removed]",
      "text/plain": [
       "<Figure size 720x432 with 1 Axes>"
      ]
     },
     "metadata": {
      "needs_background": "light"
     },
     "output_type": "display_data"
    }
   ],
   "source": [
    "mc.plot.bar()"
   ]
  },
  {
   "cell_type": "code",
   "execution_count": 31,
   "metadata": {},
   "outputs": [
    {
     "data": {
      "text/plain": [
       "9765625"
      ]
     },
     "execution_count": 31,
     "metadata": {},
     "output_type": "execute_result"
    }
   ],
   "source": [
    "5**10"
   ]
  },
  {
   "cell_type": "code",
   "execution_count": null,
   "metadata": {},
   "outputs": [],
   "source": []
  }
 ],
 "metadata": {
  "kernelspec": {
   "display_name": "Python 3",
   "language": "python",
   "name": "python3"
  },
  "language_info": {
   "codemirror_mode": {
    "name": "ipython",
    "version": 3
   },
   "file_extension": ".py",
   "mimetype": "text/x-python",
   "name": "python",
   "nbconvert_exporter": "python",
   "pygments_lexer": "ipython3",
   "version": "3.8.3"
  },
  "toc": {
   "base_numbering": 1,
   "nav_menu": {},
   "number_sections": true,
   "sideBar": true,
   "skip_h1_title": false,
   "title_cell": "Table of Contents",
   "title_sidebar": "Contents",
   "toc_cell": false,
   "toc_position": {},
   "toc_section_display": true,
   "toc_window_display": false
  }
 },
 "nbformat": 4,
 "nbformat_minor": 2
}
